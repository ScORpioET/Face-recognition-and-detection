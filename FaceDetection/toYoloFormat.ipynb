{
 "cells": [
  {
   "cell_type": "code",
   "execution_count": null,
   "id": "fad6c1f5",
   "metadata": {},
   "outputs": [],
   "source": [
    "import cv2\n",
    "# Using readlines()\n",
    "file1 = open('./datasets/labels/list_bbox_celeba.txt', 'r')\n",
    "Lines = file1.readlines()\n",
    "\n",
    "\n",
    "\n",
    "count = 0\n",
    "# Strips the newline character\n",
    "for line in Lines:\n",
    "    if count == 0 or count == 1:\n",
    "        count += 1\n",
    "        continue\n",
    "    info = line.strip().split()\n",
    "    \n",
    "    img = cv2.imread(f\"./datasets/train/{info[0]}\")\n",
    "    h, w = img.shape[:2]\n",
    "    x_center = (int(info[1]) * 2 + int(info[3])) / 2 / w\n",
    "    y_center = (int(info[2]) * 2 + int(info[4])) / 2 / h\n",
    "    w_yolo = int(info[3]) / w\n",
    "    y_yolo = int(info[4]) / h\n",
    "    file = open(f\"./datasets/labels/{info[0][:-4]}.txt\",\"w+\")\n",
    "    file.write(f'0 {x_center} {y_center} {w_yolo} {y_yolo}')"
   ]
  }
 ],
 "metadata": {
  "kernelspec": {
   "display_name": "Python 3 (ipykernel)",
   "language": "python",
   "name": "python3"
  },
  "language_info": {
   "codemirror_mode": {
    "name": "ipython",
    "version": 3
   },
   "file_extension": ".py",
   "mimetype": "text/x-python",
   "name": "python",
   "nbconvert_exporter": "python",
   "pygments_lexer": "ipython3",
   "version": "3.7.9"
  }
 },
 "nbformat": 4,
 "nbformat_minor": 5
}
