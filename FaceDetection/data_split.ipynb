{
 "cells": [
  {
   "cell_type": "code",
   "execution_count": 40,
   "id": "0c497513",
   "metadata": {},
   "outputs": [],
   "source": [
    "# import random\n",
    "# import os\n",
    "# import shutil\n",
    "\n",
    "# file1 = open('./yolov5/datasets/Celeba/labels/list_bbox_celeba.txt', 'r')\n",
    "# Lines = file1.readlines()\n",
    "\n",
    "# count = 0\n",
    "# img = []\n",
    "\n",
    "# for line in Lines:\n",
    "#     if count < 2:\n",
    "#         count += 1\n",
    "#         continue\n",
    "#     img.append(line.split()[0])\n",
    "\n",
    "# random.shuffle(img)\n",
    "# valid_test_data = img[:40520]\n",
    "# random.shuffle(valid_test_data)\n",
    "# valid_data = valid_test_data[:20260]\n",
    "# test_data = valid_test_data[20260:]\n",
    "\n",
    "# for valid in valid_data:\n",
    "#     shutil.move(f'yolov5/datasets/Celeba/images/train/{valid}', f'yolov5/datasets/Celeba/images/valid/{valid}')\n",
    "#     shutil.move(f'yolov5/datasets/Celeba/labels/train/{valid[:-4]}.txt', f'yolov5/datasets/Celeba/labels/valid/{valid[:-4]}.txt')\n",
    "    \n",
    "# for test in test_data:\n",
    "#     shutil.move(f'yolov5/datasets/Celeba/images/train/{test}', f'yolov5/datasets/Celeba/images/test/{test}')\n",
    "#     shutil.move(f'yolov5/datasets/Celeba/labels/train/{test[:-4]}.txt', f'yolov5/datasets/Celeba/labels/test/{test[:-4]}.txt')"
   ]
  }
 ],
 "metadata": {
  "kernelspec": {
   "display_name": "Python 3 (ipykernel)",
   "language": "python",
   "name": "python3"
  },
  "language_info": {
   "codemirror_mode": {
    "name": "ipython",
    "version": 3
   },
   "file_extension": ".py",
   "mimetype": "text/x-python",
   "name": "python",
   "nbconvert_exporter": "python",
   "pygments_lexer": "ipython3",
   "version": "3.7.9"
  }
 },
 "nbformat": 4,
 "nbformat_minor": 5
}
