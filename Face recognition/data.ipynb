{
 "cells": [
  {
   "cell_type": "code",
   "execution_count": 1,
   "id": "fb069be5",
   "metadata": {},
   "outputs": [
    {
     "name": "stderr",
     "output_type": "stream",
     "text": [
      "fatal: destination path 'tarball-lite' already exists and is not an empty directory.\n"
     ]
    }
   ],
   "source": [
    "# Download\n",
    "!git clone https://github.com/afad-dataset/tarball-lite.git"
   ]
  },
  {
   "cell_type": "code",
   "execution_count": 2,
   "id": "684b1589",
   "metadata": {},
   "outputs": [],
   "source": [
    "import os\n",
    "from torchvision import datasets\n",
    "from torchvision import transforms\n",
    "from torch.utils.data import DataLoader\n",
    "from torch.utils.data import SubsetRandomSampler\n",
    "from torch.utils.data import Dataset\n",
    "from glob import glob\n",
    "from PIL import Image"
   ]
  },
  {
   "cell_type": "code",
   "execution_count": 3,
   "id": "706fca9a",
   "metadata": {},
   "outputs": [],
   "source": [
    "class AFAD(Dataset):\n",
    "    \"\"\"Custom Dataset for loading AFAD face images\"\"\"\n",
    "\n",
    "    def __init__(self, images_path, ages, genders, transform=None):\n",
    "        \n",
    "        \n",
    "\n",
    "        if transform is None:\n",
    "            self.transform = transforms.Compose([\n",
    "                transforms.Resize((32, 32)), \n",
    "                transforms.ToTensor(), \n",
    "                transforms.Normalize([0.485, 0.456, 0.406], [0.229, 0.224, 0.225])])\n",
    "        else:\n",
    "            self.transform = transform\n",
    "            \n",
    "        self.images = images_path\n",
    "        self.ages = ages\n",
    "        self.genders = genders\n",
    "\n",
    "\n",
    "\n",
    "    def __getitem__(self, index):\n",
    "        img = Image.open(self.images[index]).convert('RGB')\n",
    "        img = self.transform(img)\n",
    "\n",
    "        age = self.ages[index]\n",
    "        gender = self.genders[index]\n",
    "\n",
    "        sample = {'image':img, 'age': age, 'gender': gender}\n",
    "        return sample\n",
    "    \n",
    "    def __len__(self):\n",
    "         return len(self.images)"
   ]
  }
 ],
 "metadata": {
  "kernelspec": {
   "display_name": "Python 3 (ipykernel)",
   "language": "python",
   "name": "python3"
  },
  "language_info": {
   "codemirror_mode": {
    "name": "ipython",
    "version": 3
   },
   "file_extension": ".py",
   "mimetype": "text/x-python",
   "name": "python",
   "nbconvert_exporter": "python",
   "pygments_lexer": "ipython3",
   "version": "3.7.9"
  }
 },
 "nbformat": 4,
 "nbformat_minor": 5
}
