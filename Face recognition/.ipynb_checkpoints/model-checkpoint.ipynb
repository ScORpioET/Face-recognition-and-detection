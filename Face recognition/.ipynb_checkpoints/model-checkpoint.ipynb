{
 "cells": [
  {
   "cell_type": "code",
   "execution_count": 1,
   "id": "c0fcf062",
   "metadata": {},
   "outputs": [],
   "source": [
    "from torch import nn\n",
    "import torch\n",
    "from collections import OrderedDict\n",
    "from torchvision.models import resnet50"
   ]
  },
  {
   "cell_type": "code",
   "execution_count": 2,
   "id": "405b4f0d",
   "metadata": {},
   "outputs": [],
   "source": [
    "class MTL(nn.Module):\n",
    "    def __init__(self):\n",
    "        super().__init__()\n",
    "        self.net = resnet50(pretrained=True)\n",
    "        self.n_features = self.net.fc.in_features\n",
    "        self.net.fc = nn.Identity()\n",
    "        self.net.gender_fc = nn.Sequential(OrderedDict([\n",
    "            ('linear', nn.Linear(self.n_features,self.n_features)),\n",
    "            ('relu1', nn.ReLU()),\n",
    "            ('final', nn.Linear(self.n_features, 1))\n",
    "        ]))\n",
    "        self.net.age_fc = nn.Sequential(OrderedDict([\n",
    "            ('linear', nn.Linear(self.n_features,self.n_features)),\n",
    "            ('relu1', nn.ReLU()),\n",
    "            ('final', nn.Linear(self.n_features, 1))\n",
    "        ]))\n",
    "        \n",
    "    def forward(self, x):\n",
    "        age_head = self.net.age_fc(self.net(x))\n",
    "        gender_head = self.net.gender_fc(self.net(x))\n",
    "        return age_head, gender_head"
   ]
  }
 ],
 "metadata": {
  "kernelspec": {
   "display_name": "Python 3 (ipykernel)",
   "language": "python",
   "name": "python3"
  },
  "language_info": {
   "codemirror_mode": {
    "name": "ipython",
    "version": 3
   },
   "file_extension": ".py",
   "mimetype": "text/x-python",
   "name": "python",
   "nbconvert_exporter": "python",
   "pygments_lexer": "ipython3",
   "version": "3.7.9"
  }
 },
 "nbformat": 4,
 "nbformat_minor": 5
}
