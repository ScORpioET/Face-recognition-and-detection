{
 "cells": [
  {
   "cell_type": "code",
   "execution_count": 1,
   "id": "10524fe7",
   "metadata": {},
   "outputs": [],
   "source": [
    "import torch\n",
    "\n",
    "rootDir = 'dataset/AFAD-Lite'\n",
    "batch_size = 1024\n",
    "device = \"cuda\" if torch.cuda.is_available() else \"cpu\"\n",
    "lr = 1e-4\n",
    "epochs = 600\n",
    "base_output = 'output'"
   ]
  }
 ],
 "metadata": {
  "kernelspec": {
   "display_name": "Python 3 (ipykernel)",
   "language": "python",
   "name": "python3"
  },
  "language_info": {
   "codemirror_mode": {
    "name": "ipython",
    "version": 3
   },
   "file_extension": ".py",
   "mimetype": "text/x-python",
   "name": "python",
   "nbconvert_exporter": "python",
   "pygments_lexer": "ipython3",
   "version": "3.7.9"
  }
 },
 "nbformat": 4,
 "nbformat_minor": 5
}
