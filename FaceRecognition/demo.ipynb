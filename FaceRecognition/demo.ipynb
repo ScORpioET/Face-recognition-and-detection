{
 "cells": [
  {
   "cell_type": "code",
   "execution_count": 1,
   "id": "9be0a19a",
   "metadata": {},
   "outputs": [
    {
     "name": "stdout",
     "output_type": "stream",
     "text": [
      "importing Jupyter notebook from config.ipynb\n",
      "importing Jupyter notebook from data.ipynb\n",
      "importing Jupyter notebook from model.ipynb\n"
     ]
    }
   ],
   "source": [
    "from torch.utils.data import DataLoader\n",
    "from sklearn.model_selection import train_test_split\n",
    "from torch import nn\n",
    "import torch\n",
    "from torchvision import transforms\n",
    "import import_ipynb\n",
    "from config import batch_size, rootDir, device, lr, epochs, base_output\n",
    "from data import AFAD\n",
    "from model import MTL\n",
    "import os\n",
    "from PIL import Image"
   ]
  },
  {
   "cell_type": "code",
   "execution_count": 2,
   "id": "d682b712",
   "metadata": {},
   "outputs": [],
   "source": [
    "images_path = []\n",
    "ages = []\n",
    "genders = []\n",
    "\n",
    "for age in os.listdir(rootDir):\n",
    "    age_files = os.path.join(rootDir, age)\n",
    "    if os.path.isdir(age_files):\n",
    "        for gender in os.listdir(age_files):\n",
    "            gender_files = os.path.join(age_files, gender)\n",
    "            if os.path.isdir(gender_files):\n",
    "                for img in os.listdir(gender_files):\n",
    "                    image_path = os.path.join(gender_files, img)\n",
    "                    images_path.append(image_path)\n",
    "                    ages.append(int(age))\n",
    "                    genders.append(int(gender[2])-1)"
   ]
  },
  {
   "cell_type": "code",
   "execution_count": 3,
   "id": "5341ce58",
   "metadata": {},
   "outputs": [],
   "source": [
    "_, val_paths = train_test_split(\n",
    "    images_path, test_size=0.2, random_state=10\n",
    ")\n",
    "_, val_ages = train_test_split(\n",
    "    ages, test_size=0.2, random_state=10\n",
    ")\n",
    "_, val_genders = train_test_split(\n",
    "    genders, test_size=0.2, random_state=10\n",
    ")"
   ]
  },
  {
   "cell_type": "code",
   "execution_count": 16,
   "id": "73d5995b",
   "metadata": {},
   "outputs": [
    {
     "ename": "KeyError",
     "evalue": "0",
     "output_type": "error",
     "traceback": [
      "\u001b[1;31m---------------------------------------------------------------------------\u001b[0m",
      "\u001b[1;31mKeyError\u001b[0m                                  Traceback (most recent call last)",
      "\u001b[1;32m~\\AppData\\Local\\Temp\\ipykernel_15764\\3499769245.py\u001b[0m in \u001b[0;36m<module>\u001b[1;34m\u001b[0m\n\u001b[0;32m      2\u001b[0m \u001b[0mmodel\u001b[0m\u001b[1;33m.\u001b[0m\u001b[0mload_state_dict\u001b[0m\u001b[1;33m(\u001b[0m\u001b[0mtorch\u001b[0m\u001b[1;33m.\u001b[0m\u001b[0mload\u001b[0m\u001b[1;33m(\u001b[0m\u001b[1;34m'output/bestmodel.pth'\u001b[0m\u001b[1;33m)\u001b[0m\u001b[1;33m)\u001b[0m\u001b[1;33m\u001b[0m\u001b[1;33m\u001b[0m\u001b[0m\n\u001b[0;32m      3\u001b[0m \u001b[0mmodel\u001b[0m\u001b[1;33m.\u001b[0m\u001b[0meval\u001b[0m\u001b[1;33m(\u001b[0m\u001b[1;33m)\u001b[0m\u001b[1;33m\u001b[0m\u001b[1;33m\u001b[0m\u001b[0m\n\u001b[1;32m----> 4\u001b[1;33m \u001b[0mprint\u001b[0m\u001b[1;33m(\u001b[0m\u001b[0mlen\u001b[0m\u001b[1;33m(\u001b[0m\u001b[0mmodel\u001b[0m\u001b[1;33m.\u001b[0m\u001b[0mstate_dict\u001b[0m\u001b[1;33m(\u001b[0m\u001b[1;33m)\u001b[0m\u001b[1;33m[\u001b[0m\u001b[1;36m0\u001b[0m\u001b[1;33m]\u001b[0m\u001b[1;33m)\u001b[0m\u001b[1;33m)\u001b[0m\u001b[1;33m\u001b[0m\u001b[1;33m\u001b[0m\u001b[0m\n\u001b[0m",
      "\u001b[1;31mKeyError\u001b[0m: 0"
     ]
    }
   ],
   "source": [
    "model = MTL().to(device=device)\n",
    "model.load_state_dict(torch.load('output/bestmodel.pth'))\n",
    "model.eval()"
   ]
  },
  {
   "cell_type": "code",
   "execution_count": 5,
   "id": "6ab65ec3",
   "metadata": {},
   "outputs": [],
   "source": [
    "index = 2999\n",
    "img = Image.open(val_paths[index])\n",
    "trns = transforms.Compose([\n",
    "                transforms.Resize((32, 32)), \n",
    "                transforms.ToTensor(), \n",
    "                transforms.Normalize([0.485, 0.456, 0.406], [0.229, 0.224, 0.225])])\n",
    "img_tensor = trns(img).unsqueeze(0).to(device=device)"
   ]
  },
  {
   "cell_type": "code",
   "execution_count": 6,
   "id": "feaeb6ba",
   "metadata": {},
   "outputs": [],
   "source": [
    "age_output, gender_output = model(img_tensor)"
   ]
  },
  {
   "cell_type": "code",
   "execution_count": 7,
   "id": "1eacdc58",
   "metadata": {},
   "outputs": [
    {
     "name": "stdout",
     "output_type": "stream",
     "text": [
      "dataset/AFAD-Lite\\26\\111\\174276-0.jpg\n"
     ]
    }
   ],
   "source": [
    "print(val_paths[index])"
   ]
  },
  {
   "cell_type": "code",
   "execution_count": 8,
   "id": "28bb95d0",
   "metadata": {},
   "outputs": [
    {
     "name": "stdout",
     "output_type": "stream",
     "text": [
      "tensor([[25.6385]], device='cuda:0', grad_fn=<AddmmBackward0>) tensor([[ 2.1639, -2.1631]], device='cuda:0', grad_fn=<AddmmBackward0>)\n"
     ]
    }
   ],
   "source": [
    "print(age_output, gender_output)"
   ]
  }
 ],
 "metadata": {
  "kernelspec": {
   "display_name": "Python 3 (ipykernel)",
   "language": "python",
   "name": "python3"
  },
  "language_info": {
   "codemirror_mode": {
    "name": "ipython",
    "version": 3
   },
   "file_extension": ".py",
   "mimetype": "text/x-python",
   "name": "python",
   "nbconvert_exporter": "python",
   "pygments_lexer": "ipython3",
   "version": "3.7.9"
  }
 },
 "nbformat": 4,
 "nbformat_minor": 5
}
